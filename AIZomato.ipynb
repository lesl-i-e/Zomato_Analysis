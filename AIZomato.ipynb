{
 "cells": [
  {
   "cell_type": "code",
   "execution_count": 1,
   "id": "fe754af7-4387-43d4-aec4-1183acaf443d",
   "metadata": {},
   "outputs": [],
   "source": [
    "import pandas as pd\n",
    "import matplotlib.pyplot as plt\n",
    "import seaborn as sns"
   ]
  },
  {
   "cell_type": "code",
   "execution_count": 48,
   "id": "68b0a7ad-eae7-4f52-b74f-5e3f9d286b73",
   "metadata": {},
   "outputs": [],
   "source": [
    "#Exploratory Data Analysis Task:\n",
    "#Business Scenario:\n",
    "#          About Dataset\n",
    "#Zomato API Analysis is one of the most useful analyses for foodies who want to taste the best cuisines of every part of the world which lies in their budget. This analysis is also for those who want to find value-for-money restaurants in various parts of the country for cuisines. Additionally, this analysis caters to the needs of people who are striving to get the best cuisine of the country and which locality of that country serves that cuisine with the maximum number of restaurants.\n",
    "#Problem statement:\n",
    "#a.\tZomato wants to tie up with more restaurants. So, they want to know in which locations they should start providing their services and which type of restaurants they should start approaching. \n",
    "#b.\tThey also want to know, how they can use the data to convince shopkeepers into accepting their services.\n",
    "#c.\tZomato’s new business client want to set up a restaurant, so they want to know in which location what category of restaurant they should set up and also which cuisines at what price they should sell to get good number of customers in future once the restaurant is set. \n",
    "#d.\tMoreover, they want to know how zomato ‘s services can help them in growing their business quickly.\n",
    "#Guide Questions for doing the analysis:\n",
    "#1.\tWhat is the number of restaurants in each location?\n",
    "#2.\tHow much is the average rating restaurants with book table facility got?\n",
    "#3.\tHow much is the average ratings restaurants got for online order facility?\n",
    "#4.\tHow many different categories of restaurants are present in different locations ?\n",
    "#5.\tIn which locations people prefer to give feedback/vote and is it dependent on the number of restaurants?\n",
    "#6.\tWhich restaurant categories has got comparatively higher ratings and what could be the common responsible factor behind it ?\n",
    "#7.\twhich category of restaurants are comparatively more expensive or cheaper?\n",
    "#8.\taverage cost of cuisines in different locations\n",
    "#9.\twhich cuisines have the most positive ratings?\n",
    "#10.\tHypothesis –\n",
    "#a.\tRestaurants that have online order and table booking facility perform better.\n",
    "#b.\tRestaurants where people can enjoy more by engaging in different social activities are rated more positively.\n",
    "#Process involved:\n",
    "#1.\tData Exploring\n",
    "#2.\tData cleaning\n",
    "#3.\tData Analysis & Visualization.\n"
   ]
  },
  {
   "cell_type": "code",
   "execution_count": 3,
   "id": "bac7a5d6-1dcd-4abf-bac9-d67180c45364",
   "metadata": {},
   "outputs": [
    {
     "data": {
      "text/html": [
       "<div>\n",
       "<style scoped>\n",
       "    .dataframe tbody tr th:only-of-type {\n",
       "        vertical-align: middle;\n",
       "    }\n",
       "\n",
       "    .dataframe tbody tr th {\n",
       "        vertical-align: top;\n",
       "    }\n",
       "\n",
       "    .dataframe thead th {\n",
       "        text-align: right;\n",
       "    }\n",
       "</style>\n",
       "<table border=\"1\" class=\"dataframe\">\n",
       "  <thead>\n",
       "    <tr style=\"text-align: right;\">\n",
       "      <th></th>\n",
       "      <th>Restaurant ID</th>\n",
       "      <th>Restaurant Name</th>\n",
       "      <th>Country Code</th>\n",
       "      <th>City</th>\n",
       "      <th>Address</th>\n",
       "      <th>Locality</th>\n",
       "      <th>Locality Verbose</th>\n",
       "      <th>Longitude</th>\n",
       "      <th>Latitude</th>\n",
       "      <th>Cuisines</th>\n",
       "      <th>...</th>\n",
       "      <th>Currency</th>\n",
       "      <th>Has Table booking</th>\n",
       "      <th>Has Online delivery</th>\n",
       "      <th>Is delivering now</th>\n",
       "      <th>Switch to order menu</th>\n",
       "      <th>Price range</th>\n",
       "      <th>Aggregate rating</th>\n",
       "      <th>Rating color</th>\n",
       "      <th>Rating text</th>\n",
       "      <th>Votes</th>\n",
       "    </tr>\n",
       "  </thead>\n",
       "  <tbody>\n",
       "    <tr>\n",
       "      <th>0</th>\n",
       "      <td>6317637</td>\n",
       "      <td>Le Petit Souffle</td>\n",
       "      <td>162</td>\n",
       "      <td>Makati City</td>\n",
       "      <td>Third Floor, Century City Mall, Kalayaan Avenu...</td>\n",
       "      <td>Century City Mall, Poblacion, Makati City</td>\n",
       "      <td>Century City Mall, Poblacion, Makati City, Mak...</td>\n",
       "      <td>121.027535</td>\n",
       "      <td>14.565443</td>\n",
       "      <td>French, Japanese, Desserts</td>\n",
       "      <td>...</td>\n",
       "      <td>Botswana Pula(P)</td>\n",
       "      <td>Yes</td>\n",
       "      <td>No</td>\n",
       "      <td>No</td>\n",
       "      <td>No</td>\n",
       "      <td>3</td>\n",
       "      <td>4.8</td>\n",
       "      <td>Dark Green</td>\n",
       "      <td>Excellent</td>\n",
       "      <td>314</td>\n",
       "    </tr>\n",
       "    <tr>\n",
       "      <th>1</th>\n",
       "      <td>6304287</td>\n",
       "      <td>Izakaya Kikufuji</td>\n",
       "      <td>162</td>\n",
       "      <td>Makati City</td>\n",
       "      <td>Little Tokyo, 2277 Chino Roces Avenue, Legaspi...</td>\n",
       "      <td>Little Tokyo, Legaspi Village, Makati City</td>\n",
       "      <td>Little Tokyo, Legaspi Village, Makati City, Ma...</td>\n",
       "      <td>121.014101</td>\n",
       "      <td>14.553708</td>\n",
       "      <td>Japanese</td>\n",
       "      <td>...</td>\n",
       "      <td>Botswana Pula(P)</td>\n",
       "      <td>Yes</td>\n",
       "      <td>No</td>\n",
       "      <td>No</td>\n",
       "      <td>No</td>\n",
       "      <td>3</td>\n",
       "      <td>4.5</td>\n",
       "      <td>Dark Green</td>\n",
       "      <td>Excellent</td>\n",
       "      <td>591</td>\n",
       "    </tr>\n",
       "    <tr>\n",
       "      <th>2</th>\n",
       "      <td>6300002</td>\n",
       "      <td>Heat - Edsa Shangri-La</td>\n",
       "      <td>162</td>\n",
       "      <td>Mandaluyong City</td>\n",
       "      <td>Edsa Shangri-La, 1 Garden Way, Ortigas, Mandal...</td>\n",
       "      <td>Edsa Shangri-La, Ortigas, Mandaluyong City</td>\n",
       "      <td>Edsa Shangri-La, Ortigas, Mandaluyong City, Ma...</td>\n",
       "      <td>121.056831</td>\n",
       "      <td>14.581404</td>\n",
       "      <td>Seafood, Asian, Filipino, Indian</td>\n",
       "      <td>...</td>\n",
       "      <td>Botswana Pula(P)</td>\n",
       "      <td>Yes</td>\n",
       "      <td>No</td>\n",
       "      <td>No</td>\n",
       "      <td>No</td>\n",
       "      <td>4</td>\n",
       "      <td>4.4</td>\n",
       "      <td>Green</td>\n",
       "      <td>Very Good</td>\n",
       "      <td>270</td>\n",
       "    </tr>\n",
       "    <tr>\n",
       "      <th>3</th>\n",
       "      <td>6318506</td>\n",
       "      <td>Ooma</td>\n",
       "      <td>162</td>\n",
       "      <td>Mandaluyong City</td>\n",
       "      <td>Third Floor, Mega Fashion Hall, SM Megamall, O...</td>\n",
       "      <td>SM Megamall, Ortigas, Mandaluyong City</td>\n",
       "      <td>SM Megamall, Ortigas, Mandaluyong City, Mandal...</td>\n",
       "      <td>121.056475</td>\n",
       "      <td>14.585318</td>\n",
       "      <td>Japanese, Sushi</td>\n",
       "      <td>...</td>\n",
       "      <td>Botswana Pula(P)</td>\n",
       "      <td>No</td>\n",
       "      <td>No</td>\n",
       "      <td>No</td>\n",
       "      <td>No</td>\n",
       "      <td>4</td>\n",
       "      <td>4.9</td>\n",
       "      <td>Dark Green</td>\n",
       "      <td>Excellent</td>\n",
       "      <td>365</td>\n",
       "    </tr>\n",
       "    <tr>\n",
       "      <th>4</th>\n",
       "      <td>6314302</td>\n",
       "      <td>Sambo Kojin</td>\n",
       "      <td>162</td>\n",
       "      <td>Mandaluyong City</td>\n",
       "      <td>Third Floor, Mega Atrium, SM Megamall, Ortigas...</td>\n",
       "      <td>SM Megamall, Ortigas, Mandaluyong City</td>\n",
       "      <td>SM Megamall, Ortigas, Mandaluyong City, Mandal...</td>\n",
       "      <td>121.057508</td>\n",
       "      <td>14.584450</td>\n",
       "      <td>Japanese, Korean</td>\n",
       "      <td>...</td>\n",
       "      <td>Botswana Pula(P)</td>\n",
       "      <td>Yes</td>\n",
       "      <td>No</td>\n",
       "      <td>No</td>\n",
       "      <td>No</td>\n",
       "      <td>4</td>\n",
       "      <td>4.8</td>\n",
       "      <td>Dark Green</td>\n",
       "      <td>Excellent</td>\n",
       "      <td>229</td>\n",
       "    </tr>\n",
       "  </tbody>\n",
       "</table>\n",
       "<p>5 rows × 21 columns</p>\n",
       "</div>"
      ],
      "text/plain": [
       "   Restaurant ID         Restaurant Name  Country Code              City  \\\n",
       "0        6317637        Le Petit Souffle           162       Makati City   \n",
       "1        6304287        Izakaya Kikufuji           162       Makati City   \n",
       "2        6300002  Heat - Edsa Shangri-La           162  Mandaluyong City   \n",
       "3        6318506                    Ooma           162  Mandaluyong City   \n",
       "4        6314302             Sambo Kojin           162  Mandaluyong City   \n",
       "\n",
       "                                             Address  \\\n",
       "0  Third Floor, Century City Mall, Kalayaan Avenu...   \n",
       "1  Little Tokyo, 2277 Chino Roces Avenue, Legaspi...   \n",
       "2  Edsa Shangri-La, 1 Garden Way, Ortigas, Mandal...   \n",
       "3  Third Floor, Mega Fashion Hall, SM Megamall, O...   \n",
       "4  Third Floor, Mega Atrium, SM Megamall, Ortigas...   \n",
       "\n",
       "                                     Locality  \\\n",
       "0   Century City Mall, Poblacion, Makati City   \n",
       "1  Little Tokyo, Legaspi Village, Makati City   \n",
       "2  Edsa Shangri-La, Ortigas, Mandaluyong City   \n",
       "3      SM Megamall, Ortigas, Mandaluyong City   \n",
       "4      SM Megamall, Ortigas, Mandaluyong City   \n",
       "\n",
       "                                    Locality Verbose   Longitude   Latitude  \\\n",
       "0  Century City Mall, Poblacion, Makati City, Mak...  121.027535  14.565443   \n",
       "1  Little Tokyo, Legaspi Village, Makati City, Ma...  121.014101  14.553708   \n",
       "2  Edsa Shangri-La, Ortigas, Mandaluyong City, Ma...  121.056831  14.581404   \n",
       "3  SM Megamall, Ortigas, Mandaluyong City, Mandal...  121.056475  14.585318   \n",
       "4  SM Megamall, Ortigas, Mandaluyong City, Mandal...  121.057508  14.584450   \n",
       "\n",
       "                           Cuisines  ...          Currency Has Table booking  \\\n",
       "0        French, Japanese, Desserts  ...  Botswana Pula(P)               Yes   \n",
       "1                          Japanese  ...  Botswana Pula(P)               Yes   \n",
       "2  Seafood, Asian, Filipino, Indian  ...  Botswana Pula(P)               Yes   \n",
       "3                   Japanese, Sushi  ...  Botswana Pula(P)                No   \n",
       "4                  Japanese, Korean  ...  Botswana Pula(P)               Yes   \n",
       "\n",
       "  Has Online delivery Is delivering now Switch to order menu Price range  \\\n",
       "0                  No                No                   No           3   \n",
       "1                  No                No                   No           3   \n",
       "2                  No                No                   No           4   \n",
       "3                  No                No                   No           4   \n",
       "4                  No                No                   No           4   \n",
       "\n",
       "   Aggregate rating  Rating color Rating text Votes  \n",
       "0               4.8    Dark Green   Excellent   314  \n",
       "1               4.5    Dark Green   Excellent   591  \n",
       "2               4.4         Green   Very Good   270  \n",
       "3               4.9    Dark Green   Excellent   365  \n",
       "4               4.8    Dark Green   Excellent   229  \n",
       "\n",
       "[5 rows x 21 columns]"
      ]
     },
     "execution_count": 3,
     "metadata": {},
     "output_type": "execute_result"
    }
   ],
   "source": [
    "df=pd.read_csv('zomato.csv',encoding='latin1')\n",
    "df.head(5)"
   ]
  },
  {
   "cell_type": "code",
   "execution_count": 5,
   "id": "2d45d33c-fbe3-4791-98ad-88947815ffac",
   "metadata": {},
   "outputs": [
    {
     "name": "stdout",
     "output_type": "stream",
     "text": [
      "       Restaurant ID  Country Code    Longitude     Latitude  \\\n",
      "count   9.551000e+03   9551.000000  9551.000000  9551.000000   \n",
      "mean    9.051128e+06     18.365616    64.126574    25.854381   \n",
      "std     8.791521e+06     56.750546    41.467058    11.007935   \n",
      "min     5.300000e+01      1.000000  -157.948486   -41.330428   \n",
      "25%     3.019625e+05      1.000000    77.081343    28.478713   \n",
      "50%     6.004089e+06      1.000000    77.191964    28.570469   \n",
      "75%     1.835229e+07      1.000000    77.282006    28.642758   \n",
      "max     1.850065e+07    216.000000   174.832089    55.976980   \n",
      "\n",
      "       Average Cost for two  Price range  Aggregate rating         Votes  \n",
      "count           9551.000000  9551.000000       9551.000000   9551.000000  \n",
      "mean            1199.210763     1.804837          2.666370    156.909748  \n",
      "std            16121.183073     0.905609          1.516378    430.169145  \n",
      "min                0.000000     1.000000          0.000000      0.000000  \n",
      "25%              250.000000     1.000000          2.500000      5.000000  \n",
      "50%              400.000000     2.000000          3.200000     31.000000  \n",
      "75%              700.000000     2.000000          3.700000    131.000000  \n",
      "max           800000.000000     4.000000          4.900000  10934.000000  \n"
     ]
    }
   ],
   "source": [
    "#Data Exploration\n",
    "# Summary statistics for numerical columns\n",
    "summary_statistics = df.describe()\n",
    "print(summary_statistics)"
   ]
  },
  {
   "cell_type": "code",
   "execution_count": 6,
   "id": "ebf0e26b-84a9-4f4d-bb68-09fb1df302a7",
   "metadata": {},
   "outputs": [
    {
     "name": "stdout",
     "output_type": "stream",
     "text": [
      "        Restaurant Name       City                     Address  \\\n",
      "count              9551       9551                        9551   \n",
      "unique             7446        141                        8918   \n",
      "top     Cafe Coffee Day  New Delhi  Dilli Haat, INA, New Delhi   \n",
      "freq                 83       5473                          11   \n",
      "\n",
      "               Locality            Locality Verbose      Cuisines  \\\n",
      "count              9551                        9551          9542   \n",
      "unique             1208                        1265          1825   \n",
      "top     Connaught Place  Connaught Place, New Delhi  North Indian   \n",
      "freq                122                         122           936   \n",
      "\n",
      "                  Currency Has Table booking Has Online delivery  \\\n",
      "count                 9551              9551                9551   \n",
      "unique                  12                 2                   2   \n",
      "top     Indian Rupees(Rs.)                No                  No   \n",
      "freq                  8652              8393                7100   \n",
      "\n",
      "       Is delivering now Switch to order menu Rating color Rating text  \n",
      "count               9551                 9551         9551        9551  \n",
      "unique                 2                    1            6           6  \n",
      "top                   No                   No       Orange     Average  \n",
      "freq                9517                 9551         3737        3737  \n"
     ]
    }
   ],
   "source": [
    "# Checking the distribution of categorical columns\n",
    "categorical_columns = df.select_dtypes(include=['object']).columns\n",
    "categorical_distribution = df[categorical_columns].describe(include='all')\n",
    "print(categorical_distribution)"
   ]
  },
  {
   "cell_type": "code",
   "execution_count": 7,
   "id": "83dcde52-823b-4082-930b-6c470e203a9d",
   "metadata": {},
   "outputs": [
    {
     "name": "stdout",
     "output_type": "stream",
     "text": [
      "Restaurant ID           0\n",
      "Restaurant Name         0\n",
      "Country Code            0\n",
      "City                    0\n",
      "Address                 0\n",
      "Locality                0\n",
      "Locality Verbose        0\n",
      "Longitude               0\n",
      "Latitude                0\n",
      "Cuisines                9\n",
      "Average Cost for two    0\n",
      "Currency                0\n",
      "Has Table booking       0\n",
      "Has Online delivery     0\n",
      "Is delivering now       0\n",
      "Switch to order menu    0\n",
      "Price range             0\n",
      "Aggregate rating        0\n",
      "Rating color            0\n",
      "Rating text             0\n",
      "Votes                   0\n",
      "dtype: int64\n"
     ]
    }
   ],
   "source": [
    "# Checking for missing values\n",
    "missing_values = df.isnull().sum()\n",
    "print(missing_values)"
   ]
  },
  {
   "cell_type": "code",
   "execution_count": 18,
   "id": "f22ffd70-33b2-4dcd-8a89-93b979de05c8",
   "metadata": {},
   "outputs": [],
   "source": [
    "#After checking for Missing Values, we conclude the the Cuisines column has 9 missing values"
   ]
  },
  {
   "cell_type": "code",
   "execution_count": 13,
   "id": "d6f1e899-6e4a-4e0e-8ec2-2e87f3c9be81",
   "metadata": {},
   "outputs": [],
   "source": [
    "#Data Cleaning\n",
    "# Filling the missing values in the column 'Cuisines' with 'Unknown'\n",
    "df['Cuisines'] = df['Cuisines'].fillna('Unknown')"
   ]
  },
  {
   "cell_type": "code",
   "execution_count": 12,
   "id": "2088109f-9f9f-4518-be99-7dfa635ea32f",
   "metadata": {},
   "outputs": [],
   "source": [
    "#Checking for dulicate values and removing them\n",
    "duplicates = df.duplicated().sum()\n",
    "df = df.drop_duplicates()"
   ]
  },
  {
   "cell_type": "code",
   "execution_count": 14,
   "id": "44015a12-0fa4-4c5c-8a7d-1594806ee8fd",
   "metadata": {},
   "outputs": [
    {
     "data": {
      "text/html": [
       "<div>\n",
       "<style scoped>\n",
       "    .dataframe tbody tr th:only-of-type {\n",
       "        vertical-align: middle;\n",
       "    }\n",
       "\n",
       "    .dataframe tbody tr th {\n",
       "        vertical-align: top;\n",
       "    }\n",
       "\n",
       "    .dataframe thead th {\n",
       "        text-align: right;\n",
       "    }\n",
       "</style>\n",
       "<table border=\"1\" class=\"dataframe\">\n",
       "  <thead>\n",
       "    <tr style=\"text-align: right;\">\n",
       "      <th></th>\n",
       "      <th>Restaurant ID</th>\n",
       "      <th>Restaurant Name</th>\n",
       "      <th>Country Code</th>\n",
       "      <th>City</th>\n",
       "      <th>Address</th>\n",
       "      <th>Locality</th>\n",
       "      <th>Locality Verbose</th>\n",
       "      <th>Longitude</th>\n",
       "      <th>Latitude</th>\n",
       "      <th>Cuisines</th>\n",
       "      <th>...</th>\n",
       "      <th>Currency</th>\n",
       "      <th>Has Table booking</th>\n",
       "      <th>Has Online delivery</th>\n",
       "      <th>Is delivering now</th>\n",
       "      <th>Switch to order menu</th>\n",
       "      <th>Price range</th>\n",
       "      <th>Aggregate rating</th>\n",
       "      <th>Rating color</th>\n",
       "      <th>Rating text</th>\n",
       "      <th>Votes</th>\n",
       "    </tr>\n",
       "  </thead>\n",
       "  <tbody>\n",
       "    <tr>\n",
       "      <th>0</th>\n",
       "      <td>6317637</td>\n",
       "      <td>Le Petit Souffle</td>\n",
       "      <td>162</td>\n",
       "      <td>Makati City</td>\n",
       "      <td>Third Floor, Century City Mall, Kalayaan Avenu...</td>\n",
       "      <td>Century City Mall, Poblacion, Makati City</td>\n",
       "      <td>Century City Mall, Poblacion, Makati City, Mak...</td>\n",
       "      <td>121.027535</td>\n",
       "      <td>14.565443</td>\n",
       "      <td>French, Japanese, Desserts</td>\n",
       "      <td>...</td>\n",
       "      <td>Botswana Pula(P)</td>\n",
       "      <td>Yes</td>\n",
       "      <td>No</td>\n",
       "      <td>No</td>\n",
       "      <td>No</td>\n",
       "      <td>3</td>\n",
       "      <td>4.8</td>\n",
       "      <td>Dark Green</td>\n",
       "      <td>Excellent</td>\n",
       "      <td>314</td>\n",
       "    </tr>\n",
       "    <tr>\n",
       "      <th>1</th>\n",
       "      <td>6304287</td>\n",
       "      <td>Izakaya Kikufuji</td>\n",
       "      <td>162</td>\n",
       "      <td>Makati City</td>\n",
       "      <td>Little Tokyo, 2277 Chino Roces Avenue, Legaspi...</td>\n",
       "      <td>Little Tokyo, Legaspi Village, Makati City</td>\n",
       "      <td>Little Tokyo, Legaspi Village, Makati City, Ma...</td>\n",
       "      <td>121.014101</td>\n",
       "      <td>14.553708</td>\n",
       "      <td>Japanese</td>\n",
       "      <td>...</td>\n",
       "      <td>Botswana Pula(P)</td>\n",
       "      <td>Yes</td>\n",
       "      <td>No</td>\n",
       "      <td>No</td>\n",
       "      <td>No</td>\n",
       "      <td>3</td>\n",
       "      <td>4.5</td>\n",
       "      <td>Dark Green</td>\n",
       "      <td>Excellent</td>\n",
       "      <td>591</td>\n",
       "    </tr>\n",
       "    <tr>\n",
       "      <th>2</th>\n",
       "      <td>6300002</td>\n",
       "      <td>Heat - Edsa Shangri-La</td>\n",
       "      <td>162</td>\n",
       "      <td>Mandaluyong City</td>\n",
       "      <td>Edsa Shangri-La, 1 Garden Way, Ortigas, Mandal...</td>\n",
       "      <td>Edsa Shangri-La, Ortigas, Mandaluyong City</td>\n",
       "      <td>Edsa Shangri-La, Ortigas, Mandaluyong City, Ma...</td>\n",
       "      <td>121.056831</td>\n",
       "      <td>14.581404</td>\n",
       "      <td>Seafood, Asian, Filipino, Indian</td>\n",
       "      <td>...</td>\n",
       "      <td>Botswana Pula(P)</td>\n",
       "      <td>Yes</td>\n",
       "      <td>No</td>\n",
       "      <td>No</td>\n",
       "      <td>No</td>\n",
       "      <td>4</td>\n",
       "      <td>4.4</td>\n",
       "      <td>Green</td>\n",
       "      <td>Very Good</td>\n",
       "      <td>270</td>\n",
       "    </tr>\n",
       "    <tr>\n",
       "      <th>3</th>\n",
       "      <td>6318506</td>\n",
       "      <td>Ooma</td>\n",
       "      <td>162</td>\n",
       "      <td>Mandaluyong City</td>\n",
       "      <td>Third Floor, Mega Fashion Hall, SM Megamall, O...</td>\n",
       "      <td>SM Megamall, Ortigas, Mandaluyong City</td>\n",
       "      <td>SM Megamall, Ortigas, Mandaluyong City, Mandal...</td>\n",
       "      <td>121.056475</td>\n",
       "      <td>14.585318</td>\n",
       "      <td>Japanese, Sushi</td>\n",
       "      <td>...</td>\n",
       "      <td>Botswana Pula(P)</td>\n",
       "      <td>No</td>\n",
       "      <td>No</td>\n",
       "      <td>No</td>\n",
       "      <td>No</td>\n",
       "      <td>4</td>\n",
       "      <td>4.9</td>\n",
       "      <td>Dark Green</td>\n",
       "      <td>Excellent</td>\n",
       "      <td>365</td>\n",
       "    </tr>\n",
       "    <tr>\n",
       "      <th>4</th>\n",
       "      <td>6314302</td>\n",
       "      <td>Sambo Kojin</td>\n",
       "      <td>162</td>\n",
       "      <td>Mandaluyong City</td>\n",
       "      <td>Third Floor, Mega Atrium, SM Megamall, Ortigas...</td>\n",
       "      <td>SM Megamall, Ortigas, Mandaluyong City</td>\n",
       "      <td>SM Megamall, Ortigas, Mandaluyong City, Mandal...</td>\n",
       "      <td>121.057508</td>\n",
       "      <td>14.584450</td>\n",
       "      <td>Japanese, Korean</td>\n",
       "      <td>...</td>\n",
       "      <td>Botswana Pula(P)</td>\n",
       "      <td>Yes</td>\n",
       "      <td>No</td>\n",
       "      <td>No</td>\n",
       "      <td>No</td>\n",
       "      <td>4</td>\n",
       "      <td>4.8</td>\n",
       "      <td>Dark Green</td>\n",
       "      <td>Excellent</td>\n",
       "      <td>229</td>\n",
       "    </tr>\n",
       "  </tbody>\n",
       "</table>\n",
       "<p>5 rows × 21 columns</p>\n",
       "</div>"
      ],
      "text/plain": [
       "   Restaurant ID         Restaurant Name  Country Code              City  \\\n",
       "0        6317637        Le Petit Souffle           162       Makati City   \n",
       "1        6304287        Izakaya Kikufuji           162       Makati City   \n",
       "2        6300002  Heat - Edsa Shangri-La           162  Mandaluyong City   \n",
       "3        6318506                    Ooma           162  Mandaluyong City   \n",
       "4        6314302             Sambo Kojin           162  Mandaluyong City   \n",
       "\n",
       "                                             Address  \\\n",
       "0  Third Floor, Century City Mall, Kalayaan Avenu...   \n",
       "1  Little Tokyo, 2277 Chino Roces Avenue, Legaspi...   \n",
       "2  Edsa Shangri-La, 1 Garden Way, Ortigas, Mandal...   \n",
       "3  Third Floor, Mega Fashion Hall, SM Megamall, O...   \n",
       "4  Third Floor, Mega Atrium, SM Megamall, Ortigas...   \n",
       "\n",
       "                                     Locality  \\\n",
       "0   Century City Mall, Poblacion, Makati City   \n",
       "1  Little Tokyo, Legaspi Village, Makati City   \n",
       "2  Edsa Shangri-La, Ortigas, Mandaluyong City   \n",
       "3      SM Megamall, Ortigas, Mandaluyong City   \n",
       "4      SM Megamall, Ortigas, Mandaluyong City   \n",
       "\n",
       "                                    Locality Verbose   Longitude   Latitude  \\\n",
       "0  Century City Mall, Poblacion, Makati City, Mak...  121.027535  14.565443   \n",
       "1  Little Tokyo, Legaspi Village, Makati City, Ma...  121.014101  14.553708   \n",
       "2  Edsa Shangri-La, Ortigas, Mandaluyong City, Ma...  121.056831  14.581404   \n",
       "3  SM Megamall, Ortigas, Mandaluyong City, Mandal...  121.056475  14.585318   \n",
       "4  SM Megamall, Ortigas, Mandaluyong City, Mandal...  121.057508  14.584450   \n",
       "\n",
       "                           Cuisines  ...          Currency Has Table booking  \\\n",
       "0        French, Japanese, Desserts  ...  Botswana Pula(P)               Yes   \n",
       "1                          Japanese  ...  Botswana Pula(P)               Yes   \n",
       "2  Seafood, Asian, Filipino, Indian  ...  Botswana Pula(P)               Yes   \n",
       "3                   Japanese, Sushi  ...  Botswana Pula(P)                No   \n",
       "4                  Japanese, Korean  ...  Botswana Pula(P)               Yes   \n",
       "\n",
       "  Has Online delivery Is delivering now Switch to order menu Price range  \\\n",
       "0                  No                No                   No           3   \n",
       "1                  No                No                   No           3   \n",
       "2                  No                No                   No           4   \n",
       "3                  No                No                   No           4   \n",
       "4                  No                No                   No           4   \n",
       "\n",
       "   Aggregate rating  Rating color Rating text Votes  \n",
       "0               4.8    Dark Green   Excellent   314  \n",
       "1               4.5    Dark Green   Excellent   591  \n",
       "2               4.4         Green   Very Good   270  \n",
       "3               4.9    Dark Green   Excellent   365  \n",
       "4               4.8    Dark Green   Excellent   229  \n",
       "\n",
       "[5 rows x 21 columns]"
      ]
     },
     "execution_count": 14,
     "metadata": {},
     "output_type": "execute_result"
    }
   ],
   "source": [
    "df.head()"
   ]
  },
  {
   "cell_type": "code",
   "execution_count": 15,
   "id": "39bf4153-0ff7-413c-b650-ca4fd1c37900",
   "metadata": {},
   "outputs": [
    {
     "data": {
      "text/plain": [
       "['Restaurant ID',\n",
       " 'Restaurant Name',\n",
       " 'Country Code',\n",
       " 'City',\n",
       " 'Address',\n",
       " 'Locality',\n",
       " 'Locality Verbose',\n",
       " 'Longitude',\n",
       " 'Latitude',\n",
       " 'Cuisines',\n",
       " 'Average Cost for two',\n",
       " 'Currency',\n",
       " 'Has Table booking',\n",
       " 'Has Online delivery',\n",
       " 'Is delivering now',\n",
       " 'Switch to order menu',\n",
       " 'Price range',\n",
       " 'Aggregate rating',\n",
       " 'Rating color',\n",
       " 'Rating text',\n",
       " 'Votes']"
      ]
     },
     "execution_count": 15,
     "metadata": {},
     "output_type": "execute_result"
    }
   ],
   "source": [
    "list(df.columns)"
   ]
  },
  {
   "cell_type": "code",
   "execution_count": 16,
   "id": "08935625-ffcd-46e2-8986-90ece081aae1",
   "metadata": {},
   "outputs": [
    {
     "name": "stdout",
     "output_type": "stream",
     "text": [
      "City\n",
      "New Delhi           5473\n",
      "Gurgaon             1118\n",
      "Noida               1080\n",
      "Faridabad            251\n",
      "Ghaziabad             25\n",
      "                    ... \n",
      "Panchkula              1\n",
      "Mc Millan              1\n",
      "Mayfield               1\n",
      "Macedon                1\n",
      "Vineland Station       1\n",
      "Name: count, Length: 141, dtype: int64\n"
     ]
    }
   ],
   "source": [
    "#1.\tWhat is the number of restaurants in each location?\n",
    "resturant_number = df['City'].value_counts()\n",
    "print(resturant_number)"
   ]
  },
  {
   "cell_type": "code",
   "execution_count": 17,
   "id": "58021cd0-8ff0-4d7c-aa71-67e1e25edf77",
   "metadata": {},
   "outputs": [
    {
     "name": "stdout",
     "output_type": "stream",
     "text": [
      "3.4419689119170984\n"
     ]
    }
   ],
   "source": [
    "#2.\tHow much is the average rating restaurants with book table facility got?\n",
    "# Calculate the average rating for restaurants with table booking facility\n",
    "avg_rating = df[df['Has Table booking'] == 'Yes']['Aggregate rating'].mean()\n",
    "print(avg_rating)"
   ]
  },
  {
   "cell_type": "code",
   "execution_count": 19,
   "id": "8ac2febe-e147-417d-bd6f-e5af9af81d7c",
   "metadata": {},
   "outputs": [
    {
     "name": "stdout",
     "output_type": "stream",
     "text": [
      "3.2488372093023257\n"
     ]
    }
   ],
   "source": [
    "#3.\tHow much is the average ratings restaurants got for online order facility?\n",
    "# Calculate the average rating for restaurants with online delivery facility\n",
    "online_order = df[df['Has Online delivery'] == 'Yes']['Aggregate rating'].mean()\n",
    "print(online_order)"
   ]
  },
  {
   "cell_type": "code",
   "execution_count": 21,
   "id": "ce3295e2-dafd-4c84-bd15-2e6b4ad41121",
   "metadata": {},
   "outputs": [
    {
     "name": "stdout",
     "output_type": "stream",
     "text": [
      "                City  Number of Restaurant Categories\n",
      "0          Abu Dhabi                               20\n",
      "1               Agra                               20\n",
      "2          Ahmedabad                               21\n",
      "3             Albany                               20\n",
      "4          Allahabad                               20\n",
      "..               ...                              ...\n",
      "136          Weirton                                1\n",
      "137  Wellington City                               20\n",
      "138   Winchester Bay                                1\n",
      "139          Yorkton                                1\n",
      "140        ÛÁstanbul                               14\n",
      "\n",
      "[141 rows x 2 columns]\n"
     ]
    }
   ],
   "source": [
    "#4.\tHow many different categories of restaurants are present in different locations ?\n",
    "# Calculate the number of different categories of restaurants in each location\n",
    "category_counts = df.groupby('City')['Restaurant Name'].nunique().reset_index()\n",
    "category_counts.columns = ['City', 'Number of Restaurant Categories']\n",
    "print(category_counts)"
   ]
  },
  {
   "cell_type": "code",
   "execution_count": 22,
   "id": "3675df5f-bd1c-4720-865d-5263356b326d",
   "metadata": {},
   "outputs": [
    {
     "name": "stdout",
     "output_type": "stream",
     "text": [
      "                City  Total Votes  Number of Restaurants  Votes per Restaurant\n",
      "0          Abu Dhabi         6045                     20            302.250000\n",
      "1               Agra         2062                     20            103.100000\n",
      "2          Ahmedabad        12266                     21            584.095238\n",
      "3             Albany         1676                     20             83.800000\n",
      "4          Allahabad         1392                     20             69.600000\n",
      "..               ...          ...                    ...                   ...\n",
      "136          Weirton          156                      1            156.000000\n",
      "137  Wellington City         2926                     20            146.300000\n",
      "138   Winchester Bay           16                      1             16.000000\n",
      "139          Yorkton           26                      1             26.000000\n",
      "140        ÛÁstanbul        12043                     14            860.214286\n",
      "\n",
      "[141 rows x 4 columns]\n"
     ]
    }
   ],
   "source": [
    "#5.\tIn which locations people prefer to give feedback/vote and is it dependent on the number of restaurants?\n",
    "# Calculate the total number of votes for each location\n",
    "total_votes = df.groupby('City')['Votes'].sum().reset_index()\n",
    "total_votes.columns = ['City', 'Total Votes']\n",
    "\n",
    "# Calculate the number of restaurants in each location\n",
    "num_restaurants = df.groupby('City')['Restaurant ID'].nunique().reset_index()\n",
    "num_restaurants.columns = ['City', 'Number of Restaurants']\n",
    "\n",
    "# Merge the two DataFrames\n",
    "votes_and_restaurants = pd.merge(total_votes, num_restaurants, on='City')\n",
    "\n",
    "# Calculate the average number of votes per restaurant in each location\n",
    "votes_and_restaurants['Votes per Restaurant'] = votes_and_restaurants['Total Votes'] / votes_and_restaurants['Number of Restaurants']\n",
    "\n",
    "print(votes_and_restaurants)"
   ]
  },
  {
   "cell_type": "code",
   "execution_count": 23,
   "id": "8ec7a916-64ab-43c0-ae08-3dffae8b16b9",
   "metadata": {},
   "outputs": [
    {
     "name": "stdout",
     "output_type": "stream",
     "text": [
      "Correlation between total votes and number of restaurants: 0.9856513811563699\n"
     ]
    }
   ],
   "source": [
    "# Optional: Analyze the correlation between the number of restaurants and total votes\n",
    "correlation = votes_and_restaurants['Total Votes'].corr(votes_and_restaurants['Number of Restaurants'])\n",
    "print(f\"Correlation between total votes and number of restaurants: {correlation}\")"
   ]
  },
  {
   "cell_type": "code",
   "execution_count": 24,
   "id": "e98660a2-d514-49bd-ae1b-0ab42b586f7a",
   "metadata": {},
   "outputs": [
    {
     "name": "stdout",
     "output_type": "stream",
     "text": [
      "                                  Cuisines  Average Rating\n",
      "683                    Continental, Indian             4.9\n",
      "169               BBQ, Breakfast, Southern             4.9\n",
      "1062                         Italian, Deli             4.9\n",
      "37            American, Caribbean, Seafood             4.9\n",
      "302                Burger, Bar Food, Steak             4.9\n",
      "...                                    ...             ...\n",
      "1299                     Nepalese, Tibetan             0.0\n",
      "1687        Seafood, Mughlai, North Indian             0.0\n",
      "1457       North Indian, Fast Food, Mithai             0.0\n",
      "1305  North Eastern, North Indian, Chinese             0.0\n",
      "489                          Cafe, Tibetan             0.0\n",
      "\n",
      "[1826 rows x 2 columns]\n"
     ]
    }
   ],
   "source": [
    "#6.\tWhich restaurant categories has got comparatively higher ratings and what could be the common responsible factor behind it ?\n",
    "# Group by Cuisines and calculate the average rating for each category\n",
    "average_ratings_by_category = df.groupby('Cuisines')['Aggregate rating'].mean().reset_index()\n",
    "average_ratings_by_category.columns = ['Cuisines', 'Average Rating']\n",
    "average_ratings_by_category = average_ratings_by_category.sort_values(by='Average Rating', ascending=False)\n",
    "print(average_ratings_by_category)"
   ]
  },
  {
   "cell_type": "code",
   "execution_count": 25,
   "id": "6013d85e-e2fe-4c10-a411-d6fa2a82aeb4",
   "metadata": {},
   "outputs": [
    {
     "name": "stdout",
     "output_type": "stream",
     "text": [
      "Correlation between average rating and votes: 0.31369058419541157\n",
      "Correlation between average rating and price range: 0.43794414930184233\n"
     ]
    }
   ],
   "source": [
    "# To identify common factors, we can also look at other attributes such as Votes, Price range, etc.\n",
    "# For example, we can check the correlation between Average Rating and Votes, Price range\n",
    "correlation_votes = df['Aggregate rating'].corr(df['Votes'])\n",
    "correlation_price_range = df['Aggregate rating'].corr(df['Price range'])\n",
    "\n",
    "print(f\"Correlation between average rating and votes: {correlation_votes}\")\n",
    "print(f\"Correlation between average rating and price range: {correlation_price_range}\")"
   ]
  },
  {
   "cell_type": "code",
   "execution_count": 26,
   "id": "e9184452-8b02-4cf1-bebb-71a0396e007d",
   "metadata": {},
   "outputs": [
    {
     "name": "stdout",
     "output_type": "stream",
     "text": [
      "Average rating with table booking:\n",
      "Has Table booking\n",
      "No     2.559359\n",
      "Yes    3.441969\n",
      "Name: Aggregate rating, dtype: float64\n"
     ]
    }
   ],
   "source": [
    "# Calculate average rating for restaurants with and without table booking\n",
    "avg_rating_table_booking = df.groupby('Has Table booking')['Aggregate rating'].mean()\n",
    "print(f\"Average rating with table booking:\\n{avg_rating_table_booking}\")"
   ]
  },
  {
   "cell_type": "code",
   "execution_count": 27,
   "id": "ad2675c8-93da-4c1f-bf78-2b1cd50bb37d",
   "metadata": {},
   "outputs": [
    {
     "name": "stdout",
     "output_type": "stream",
     "text": [
      "Average rating with online delivery:\n",
      "Has Online delivery\n",
      "No     2.465296\n",
      "Yes    3.248837\n",
      "Name: Aggregate rating, dtype: float64\n"
     ]
    }
   ],
   "source": [
    "# Calculate average rating for restaurants with and without online delivery\n",
    "avg_rating_online_delivery = df.groupby('Has Online delivery')['Aggregate rating'].mean()\n",
    "print(f\"Average rating with online delivery:\\n{avg_rating_online_delivery}\")"
   ]
  },
  {
   "cell_type": "code",
   "execution_count": 28,
   "id": "f0cfc2c1-55ad-48dc-808d-f33fbcdf9d14",
   "metadata": {},
   "outputs": [
    {
     "name": "stdout",
     "output_type": "stream",
     "text": [
      "                                               Cuisines  Average Cost for Two\n",
      "136                          Asian, Indonesian, Western              800000.0\n",
      "923                                     French, Western              350000.0\n",
      "490                                       Cafe, Western              300000.0\n",
      "1021                                         Indonesian              300000.0\n",
      "1782                                    Sushi, Japanese              250060.0\n",
      "...                                                 ...                   ...\n",
      "1072                              Italian, Fusion, Cafe                   7.0\n",
      "1000                       Indian, Chinese, Continental                   0.0\n",
      "784                          Desserts, Pizza, Ice Cream                   0.0\n",
      "443   Cafe, Italian, Mexican, North Indian, Continental                   0.0\n",
      "375   Cafe, Continental, Desserts, Ice Cream, Italia...                   0.0\n",
      "\n",
      "[1826 rows x 2 columns]\n"
     ]
    }
   ],
   "source": [
    "#7.\twhich category of restaurants are comparatively more expensive or cheaper?\n",
    "# Group by Cuisines and calculate the average cost for two people for each category\n",
    "average_cost_by_category = df.groupby('Cuisines')['Average Cost for two'].mean().reset_index()\n",
    "average_cost_by_category.columns = ['Cuisines', 'Average Cost for Two']\n",
    "average_cost_by_category = average_cost_by_category.sort_values(by='Average Cost for Two', ascending=False)\n",
    "print(average_cost_by_category)"
   ]
  },
  {
   "cell_type": "code",
   "execution_count": 29,
   "id": "5d0b017a-2145-4d2d-91c0-d55978d16c5a",
   "metadata": {},
   "outputs": [
    {
     "name": "stdout",
     "output_type": "stream",
     "text": [
      "           City                                         Cuisines  \\\n",
      "15    Abu Dhabi  Thai, Japanese, Chinese, Indonesian, Vietnamese   \n",
      "8     Abu Dhabi                             Indian, North Indian   \n",
      "7     Abu Dhabi                                           Indian   \n",
      "2     Abu Dhabi                       American, Mexican, Seafood   \n",
      "4     Abu Dhabi                                          Chinese   \n",
      "...         ...                                              ...   \n",
      "3029  ÛÁstanbul                                          Turkish   \n",
      "3028  ÛÁstanbul               Restaurant Cafe, Turkish, Desserts   \n",
      "3023  ÛÁstanbul                                         Desserts   \n",
      "3022  ÛÁstanbul                                             Cafe   \n",
      "3024  ÛÁstanbul                                 Desserts, Bí_rek   \n",
      "\n",
      "      Average Cost for Two  \n",
      "15                   350.0  \n",
      "8                    330.0  \n",
      "7                    290.0  \n",
      "2                    250.0  \n",
      "4                    250.0  \n",
      "...                    ...  \n",
      "3029                  80.0  \n",
      "3028                  75.0  \n",
      "3023                  50.0  \n",
      "3022                  40.0  \n",
      "3024                  40.0  \n",
      "\n",
      "[3031 rows x 3 columns]\n"
     ]
    }
   ],
   "source": [
    "#8.\taverage cost of cuisines in different locations\n",
    "# Group by City and Cuisines and calculate the average cost for two people for each combination\n",
    "average_cost_by_location_cuisine = df.groupby(['City', 'Cuisines'])['Average Cost for two'].mean().reset_index()\n",
    "average_cost_by_location_cuisine.columns = ['City', 'Cuisines', 'Average Cost for Two']\n",
    "average_cost_by_location_cuisine = average_cost_by_location_cuisine.sort_values(by=['City', 'Average Cost for Two'], ascending=[True, False])\n",
    "print(average_cost_by_location_cuisine)"
   ]
  },
  {
   "cell_type": "code",
   "execution_count": 30,
   "id": "ec86f412-ac17-43f7-99cf-e7acce64f7d4",
   "metadata": {},
   "outputs": [
    {
     "name": "stdout",
     "output_type": "stream",
     "text": [
      "                                  Cuisines  Average Rating\n",
      "683                    Continental, Indian             4.9\n",
      "169               BBQ, Breakfast, Southern             4.9\n",
      "1062                         Italian, Deli             4.9\n",
      "37            American, Caribbean, Seafood             4.9\n",
      "302                Burger, Bar Food, Steak             4.9\n",
      "...                                    ...             ...\n",
      "1299                     Nepalese, Tibetan             0.0\n",
      "1687        Seafood, Mughlai, North Indian             0.0\n",
      "1457       North Indian, Fast Food, Mithai             0.0\n",
      "1305  North Eastern, North Indian, Chinese             0.0\n",
      "489                          Cafe, Tibetan             0.0\n",
      "\n",
      "[1826 rows x 2 columns]\n"
     ]
    }
   ],
   "source": [
    "#9.\twhich cuisines have the most positive ratings?\n",
    "# Group by Cuisines and calculate the average rating for each cuisine\n",
    "average_rating_by_cuisine = df.groupby('Cuisines')['Aggregate rating'].mean().reset_index()\n",
    "average_rating_by_cuisine.columns = ['Cuisines', 'Average Rating']\n",
    "average_rating_by_cuisine = average_rating_by_cuisine.sort_values(by='Average Rating', ascending=False)\n",
    "print(average_rating_by_cuisine)"
   ]
  },
  {
   "cell_type": "code",
   "execution_count": 31,
   "id": "6ce7ad6a-cf8e-4e48-a740-6e1f1b569a74",
   "metadata": {},
   "outputs": [
    {
     "name": "stdout",
     "output_type": "stream",
     "text": [
      "Average rating with both facilities: 3.595862068965517\n",
      "Average rating without both facilities: 2.6220162351908733\n"
     ]
    }
   ],
   "source": [
    "#Hypothesis Testing\n",
    "#10.\tHypothesis –\n",
    "#a.\tRestaurants that have online order and table booking facility perform better.\n",
    "# Filter restaurants that have both online order and table booking facilities\n",
    "restaurants_with_both_facilities = df[(df['Has Online delivery'] == 'Yes') & (df['Has Table booking'] == 'Yes')]\n",
    "# Filter restaurants that do not have both facilities\n",
    "restaurants_without_both_facilities = df[(df['Has Online delivery'] != 'Yes') | (df['Has Table booking'] != 'Yes')]\n",
    "# Calculate the average rating for restaurants with both facilities\n",
    "avg_rating_with_both = restaurants_with_both_facilities['Aggregate rating'].mean()\n",
    "# Calculate the average rating for restaurants without both facilities\n",
    "avg_rating_without_both = restaurants_without_both_facilities['Aggregate rating'].mean()\n",
    "\n",
    "print(f\"Average rating with both facilities: {avg_rating_with_both}\")\n",
    "print(f\"Average rating without both facilities: {avg_rating_without_both}\")"
   ]
  },
  {
   "cell_type": "code",
   "execution_count": 32,
   "id": "461cd883-1573-46e9-a3f3-110c50067e24",
   "metadata": {},
   "outputs": [
    {
     "name": "stdout",
     "output_type": "stream",
     "text": [
      "T-statistic: 30.33569848260817\n",
      "P-value: 1.7582442150890373e-133\n",
      "The difference in ratings is statistically significant (p < 0.05).\n"
     ]
    }
   ],
   "source": [
    "#Statistical Test\n",
    "from scipy.stats import ttest_ind\n",
    "\n",
    "# Perform a t-test\n",
    "t_stat, p_value = ttest_ind(\n",
    "    restaurants_with_both_facilities['Aggregate rating'],\n",
    "    restaurants_without_both_facilities['Aggregate rating'],\n",
    "    equal_var=False  # Assume unequal variance\n",
    ")\n",
    "print(f\"T-statistic: {t_stat}\")\n",
    "print(f\"P-value: {p_value}\")\n",
    "# Interpret the result\n",
    "if p_value < 0.05:\n",
    "    print(\"The difference in ratings is statistically significant (p < 0.05).\")\n",
    "else:\n",
    "    print(\"The difference in ratings is not statistically significant (p >= 0.05).\")"
   ]
  },
  {
   "cell_type": "code",
   "execution_count": 44,
   "id": "6146a936-8813-4306-a79d-9ec22619e358",
   "metadata": {},
   "outputs": [
    {
     "name": "stderr",
     "output_type": "stream",
     "text": [
      "C:\\Users\\Jacqueline Mary\\AppData\\Local\\Temp\\ipykernel_3468\\3379497969.py:5: FutureWarning: \n",
      "\n",
      "Passing `palette` without assigning `hue` is deprecated and will be removed in v0.14.0. Assign the `x` variable to `hue` and set `legend=False` for the same effect.\n",
      "\n",
      "  sns.boxplot(x='Both Facilities', y='Aggregate rating', palette='viridis', data=df)\n"
     ]
    },
    {
     "data": {
      "image/png": "[encoded data removed]",
      "text/plain": [
       "<Figure size 800x600 with 1 Axes>"
      ]
     },
     "metadata": {},
     "output_type": "display_data"
    }
   ],
   "source": [
    "# Create a new column to indicate the presence of both facilities\n",
    "df['Both Facilities'] = df.apply(lambda x: 'Yes' if x['Has Online delivery'] == 'Yes' and x['Has Table booking'] == 'Yes' else 'No', axis=1)\n",
    "# Box plot for ratings\n",
    "plt.figure(figsize=(8, 6))\n",
    "sns.boxplot(x='Both Facilities', y='Aggregate rating', palette='viridis', data=df)\n",
    "plt.title('Distribution of Ratings for Restaurants with and without Both Facilities')\n",
    "plt.xlabel('Has Both Online Delivery and Table Booking Facilities')\n",
    "plt.ylabel('Aggregate Rating')\n",
    "plt.show()"
   ]
  },
  {
   "cell_type": "code",
   "execution_count": 45,
   "id": "93105a00-1849-4109-bcdd-a786fdbeeb28",
   "metadata": {},
   "outputs": [
    {
     "name": "stderr",
     "output_type": "stream",
     "text": [
      "No artists with labels found to put in legend.  Note that artists whose label start with an underscore are ignored when legend() is called with no argument.\n"
     ]
    },
    {
     "data": {
      "image/png": "[encoded data removed]",
      "text/plain": [
       "<Figure size 1000x600 with 1 Axes>"
      ]
     },
     "metadata": {},
     "output_type": "display_data"
    }
   ],
   "source": [
    "# Calculate average ratings for each group\n",
    "average_ratings = df.groupby('Both Facilities')['Aggregate rating'].mean().reset_index()\n",
    "\n",
    "# Bar plot for average ratings\n",
    "plt.figure(figsize=(10, 6))\n",
    "sns.barplot(x='Both Facilities', y='Aggregate rating', hue='Both Facilities', palette='rocket', data=average_ratings, dodge=False)\n",
    "plt.title('Average Ratings for Restaurants with and without Both Facilities')\n",
    "plt.xlabel('Has Both Online Delivery and Table Booking Facilities')\n",
    "plt.ylabel('Average Aggregate Rating')\n",
    "plt.legend().set_visible(False)  # Hide the legend as it's not necessary in this case\n",
    "plt.show()"
   ]
  },
  {
   "cell_type": "code",
   "execution_count": 36,
   "id": "39989429-8e92-47b2-a7c4-d5adcd351b23",
   "metadata": {},
   "outputs": [
    {
     "name": "stdout",
     "output_type": "stream",
     "text": [
      "Average rating with social activities: 3.4419689119170984\n",
      "Average rating without social activities: 2.559358989634219\n"
     ]
    }
   ],
   "source": [
    "#b.\tRestaurants where people can enjoy more by engaging in different social activities are rated more positively.\n",
    "# Filter restaurants that have table booking facilities\n",
    "restaurants_with_social_activities = df[df['Has Table booking'] == 'Yes']\n",
    "# Filter restaurants that do not have table booking facilities\n",
    "restaurants_without_social_activities = df[df['Has Table booking'] == 'No']\n",
    "# Calculate the average rating for both groups\n",
    "avg_rating_with_social = restaurants_with_social_activities['Aggregate rating'].mean()\n",
    "avg_rating_without_social = restaurants_without_social_activities['Aggregate rating'].mean()\n",
    "print(f\"Average rating with social activities: {avg_rating_with_social}\")\n",
    "print(f\"Average rating without social activities: {avg_rating_without_social}\")"
   ]
  },
  {
   "cell_type": "code",
   "execution_count": 42,
   "id": "22854a7b-5fd4-43f2-b1d2-87fdbf3b0362",
   "metadata": {},
   "outputs": [
    {
     "name": "stderr",
     "output_type": "stream",
     "text": [
      "C:\\Users\\Jacqueline Mary\\AppData\\Local\\Temp\\ipykernel_3468\\2035730918.py:3: FutureWarning: \n",
      "\n",
      "Passing `palette` without assigning `hue` is deprecated and will be removed in v0.14.0. Assign the `x` variable to `hue` and set `legend=False` for the same effect.\n",
      "\n",
      "  sns.boxplot(x='Has Table booking', y='Aggregate rating', palette='viridis', data=df)\n"
     ]
    },
    {
     "data": {
      "image/png": "[encoded data removed]",
      "text/plain": [
       "<Figure size 1000x600 with 1 Axes>"
      ]
     },
     "metadata": {},
     "output_type": "display_data"
    }
   ],
   "source": [
    "# Box plot for ratings\n",
    "plt.figure(figsize=(10, 6))\n",
    "sns.boxplot(x='Has Table booking', y='Aggregate rating', palette='viridis', data=df)\n",
    "plt.title('Distribution of Ratings for Restaurants with and without Social Activities')\n",
    "plt.xlabel('Has Table Booking Facility (Proxy for Social Activities)')\n",
    "plt.ylabel('Aggregate Rating')\n",
    "plt.show()"
   ]
  },
  {
   "cell_type": "code",
   "execution_count": 41,
   "id": "60457e57-dbbc-4c94-8162-367a09d6ea00",
   "metadata": {},
   "outputs": [
    {
     "name": "stderr",
     "output_type": "stream",
     "text": [
      "C:\\Users\\Jacqueline Mary\\AppData\\Local\\Temp\\ipykernel_3468\\3619325081.py:6: FutureWarning: \n",
      "\n",
      "Passing `palette` without assigning `hue` is deprecated and will be removed in v0.14.0. Assign the `x` variable to `hue` and set `legend=False` for the same effect.\n",
      "\n",
      "  sns.barplot(x='Has Table booking', y='Aggregate rating', palette='rocket', data=average_ratings_social)\n"
     ]
    },
    {
     "data": {
      "image/png": "[encoded data removed]",
      "text/plain": [
       "<Figure size 1000x600 with 1 Axes>"
      ]
     },
     "metadata": {},
     "output_type": "display_data"
    }
   ],
   "source": [
    "# Calculate average ratings for each group\n",
    "average_ratings_social = df.groupby('Has Table booking')['Aggregate rating'].mean().reset_index()\n",
    "\n",
    "# Bar plot for average ratings\n",
    "plt.figure(figsize=(10, 6))\n",
    "sns.barplot(x='Has Table booking', y='Aggregate rating', palette='rocket', data=average_ratings_social)\n",
    "plt.title('Average Ratings for Restaurants with and without Social Activities')\n",
    "plt.xlabel('Has Table Booking Facility (Proxy for Social Activities)')\n",
    "plt.ylabel('Average Aggregate Rating')\n",
    "plt.show()"
   ]
  },
  {
   "cell_type": "code",
   "execution_count": null,
   "id": "59f79d13-916b-4a7e-8b74-6f853453548f",
   "metadata": {},
   "outputs": [],
   "source": [
    "\"\"\"\n",
    "Average Ratings for Facilities:\n",
    "\n",
    "Restaurants with table booking facilities have a higher average rating compared to those without.\n",
    "Similarly, restaurants with online delivery facilities also tend to have higher average ratings.\n",
    "Restaurant Categories and Costs:\n",
    "\n",
    "Certain cuisines, such as those associated with fine dining or specialty foods, tend to be more expensive. On the other hand, more common or fast-food cuisines are relatively cheaper.\n",
    "Location and Votes:\n",
    "\n",
    "Locations with more restaurants generally receive more votes, indicating a higher level of engagement from customers. However, the number of votes per restaurant can vary significantly across locations.\n",
    "High-Rating Cuisines:\n",
    "\n",
    "Certain cuisines consistently receive higher ratings, suggesting that they are generally well-received by customers. This could be due to the quality of food, the uniqueness of the cuisine, or the overall dining experience.\n",
    "Impact of Social Activities:\n",
    "\n",
    "Restaurants with facilities that support social activities, such as table bookings, tend to receive higher ratings. This suggests that customers value the ability to engage in social activities while dining.\n",
    "Average Cost by Location and Cuisine:\n",
    "\n",
    "The average cost of dining can vary significantly depending on the location and the type of cuisine. Some locations might have a higher cost due to factors like real estate prices, demand, and the overall cost of living in the area.\n",
    "Positive Correlation between Facilities and Ratings:\n",
    "\n",
    "The presence of both online order and table booking facilities is positively correlated with higher restaurant ratings. This indicates that restaurants offering these conveniences are generally preferred by customers and are rated higher.\n",
    "Summary of Hypothesis Testing:\n",
    "Hypothesis 1: Restaurants with Online Order and Table Booking Perform Better:\n",
    "\n",
    "The average rating for restaurants with both facilities is higher than for those without. Statistical testing (t-test) can confirm if this difference is significant.\n",
    "Hypothesis 2: Restaurants with Social Activities are Rated More Positively:\n",
    "\n",
    "The average rating for restaurants with table booking facilities (a proxy for social activities) is higher, suggesting a positive customer response to the availability of social activities.\n",
    "Additional Insights:\n",
    "Customer Engagement:\n",
    "\n",
    "The number of votes and ratings can serve as a proxy for customer engagement and satisfaction. Locations and categories with higher engagement may indicate popular dining spots.\n",
    "Strategic Expansion:\n",
    "\n",
    "For businesses like Zomato looking to expand or partner with restaurants, focusing on locations and categories with higher ratings and customer engagement can be beneficial.\n",
    "These conclusions provide actionable insights for restaurant owners, food delivery platforms, and potential investors in the food and hospitality industry.\n",
    "\"\"\""
   ]
  }
 ],
 "metadata": {
  "kernelspec": {
   "display_name": "Python 3 (ipykernel)",
   "language": "python",
   "name": "python3"
  },
  "language_info": {
   "codemirror_mode": {
    "name": "ipython",
    "version": 3
   },
   "file_extension": ".py",
   "mimetype": "text/x-python",
   "name": "python",
   "nbconvert_exporter": "python",
   "pygments_lexer": "ipython3",
   "version": "3.12.4"
  }
 },
 "nbformat": 4,
 "nbformat_minor": 5
}
